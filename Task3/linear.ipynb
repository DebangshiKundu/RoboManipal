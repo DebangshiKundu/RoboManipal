{
 "cells": [
  {
   "cell_type": "code",
   "execution_count": 2,
   "metadata": {},
   "outputs": [],
   "source": [
    "import pandas as pd"
   ]
  },
  {
   "cell_type": "code",
   "execution_count": 3,
   "metadata": {},
   "outputs": [],
   "source": [
    "df=pd.read_csv(\"linear_regression_dataset.csv\")"
   ]
  },
  {
   "cell_type": "code",
   "execution_count": 4,
   "metadata": {},
   "outputs": [
    {
     "data": {
      "text/html": [
       "<div>\n",
       "<style scoped>\n",
       "    .dataframe tbody tr th:only-of-type {\n",
       "        vertical-align: middle;\n",
       "    }\n",
       "\n",
       "    .dataframe tbody tr th {\n",
       "        vertical-align: top;\n",
       "    }\n",
       "\n",
       "    .dataframe thead th {\n",
       "        text-align: right;\n",
       "    }\n",
       "</style>\n",
       "<table border=\"1\" class=\"dataframe\">\n",
       "  <thead>\n",
       "    <tr style=\"text-align: right;\">\n",
       "      <th></th>\n",
       "      <th>AGE</th>\n",
       "      <th>FEMALE</th>\n",
       "      <th>LOS</th>\n",
       "      <th>RACE</th>\n",
       "      <th>TOTCHG</th>\n",
       "      <th>APRDRG</th>\n",
       "    </tr>\n",
       "  </thead>\n",
       "  <tbody>\n",
       "    <tr>\n",
       "      <th>0</th>\n",
       "      <td>17</td>\n",
       "      <td>1</td>\n",
       "      <td>2</td>\n",
       "      <td>1.0</td>\n",
       "      <td>2660</td>\n",
       "      <td>560</td>\n",
       "    </tr>\n",
       "    <tr>\n",
       "      <th>1</th>\n",
       "      <td>17</td>\n",
       "      <td>0</td>\n",
       "      <td>2</td>\n",
       "      <td>1.0</td>\n",
       "      <td>1689</td>\n",
       "      <td>753</td>\n",
       "    </tr>\n",
       "    <tr>\n",
       "      <th>2</th>\n",
       "      <td>17</td>\n",
       "      <td>1</td>\n",
       "      <td>7</td>\n",
       "      <td>1.0</td>\n",
       "      <td>20060</td>\n",
       "      <td>930</td>\n",
       "    </tr>\n",
       "    <tr>\n",
       "      <th>3</th>\n",
       "      <td>17</td>\n",
       "      <td>1</td>\n",
       "      <td>1</td>\n",
       "      <td>1.0</td>\n",
       "      <td>736</td>\n",
       "      <td>758</td>\n",
       "    </tr>\n",
       "    <tr>\n",
       "      <th>4</th>\n",
       "      <td>17</td>\n",
       "      <td>1</td>\n",
       "      <td>1</td>\n",
       "      <td>1.0</td>\n",
       "      <td>1194</td>\n",
       "      <td>754</td>\n",
       "    </tr>\n",
       "    <tr>\n",
       "      <th>...</th>\n",
       "      <td>...</td>\n",
       "      <td>...</td>\n",
       "      <td>...</td>\n",
       "      <td>...</td>\n",
       "      <td>...</td>\n",
       "      <td>...</td>\n",
       "    </tr>\n",
       "    <tr>\n",
       "      <th>495</th>\n",
       "      <td>0</td>\n",
       "      <td>1</td>\n",
       "      <td>6</td>\n",
       "      <td>1.0</td>\n",
       "      <td>5881</td>\n",
       "      <td>636</td>\n",
       "    </tr>\n",
       "    <tr>\n",
       "      <th>496</th>\n",
       "      <td>0</td>\n",
       "      <td>1</td>\n",
       "      <td>2</td>\n",
       "      <td>1.0</td>\n",
       "      <td>1171</td>\n",
       "      <td>640</td>\n",
       "    </tr>\n",
       "    <tr>\n",
       "      <th>497</th>\n",
       "      <td>0</td>\n",
       "      <td>1</td>\n",
       "      <td>2</td>\n",
       "      <td>1.0</td>\n",
       "      <td>1171</td>\n",
       "      <td>640</td>\n",
       "    </tr>\n",
       "    <tr>\n",
       "      <th>498</th>\n",
       "      <td>0</td>\n",
       "      <td>1</td>\n",
       "      <td>2</td>\n",
       "      <td>1.0</td>\n",
       "      <td>1086</td>\n",
       "      <td>640</td>\n",
       "    </tr>\n",
       "    <tr>\n",
       "      <th>499</th>\n",
       "      <td>0</td>\n",
       "      <td>0</td>\n",
       "      <td>4</td>\n",
       "      <td>1.0</td>\n",
       "      <td>4931</td>\n",
       "      <td>640</td>\n",
       "    </tr>\n",
       "  </tbody>\n",
       "</table>\n",
       "<p>500 rows × 6 columns</p>\n",
       "</div>"
      ],
      "text/plain": [
       "     AGE  FEMALE  LOS  RACE  TOTCHG  APRDRG\n",
       "0     17       1    2   1.0    2660     560\n",
       "1     17       0    2   1.0    1689     753\n",
       "2     17       1    7   1.0   20060     930\n",
       "3     17       1    1   1.0     736     758\n",
       "4     17       1    1   1.0    1194     754\n",
       "..   ...     ...  ...   ...     ...     ...\n",
       "495    0       1    6   1.0    5881     636\n",
       "496    0       1    2   1.0    1171     640\n",
       "497    0       1    2   1.0    1171     640\n",
       "498    0       1    2   1.0    1086     640\n",
       "499    0       0    4   1.0    4931     640\n",
       "\n",
       "[500 rows x 6 columns]"
      ]
     },
     "execution_count": 4,
     "metadata": {},
     "output_type": "execute_result"
    }
   ],
   "source": [
    "df"
   ]
  },
  {
   "cell_type": "code",
   "execution_count": 5,
   "metadata": {},
   "outputs": [
    {
     "data": {
      "text/plain": [
       "AGE       0\n",
       "FEMALE    0\n",
       "LOS       0\n",
       "RACE      1\n",
       "TOTCHG    0\n",
       "APRDRG    0\n",
       "dtype: int64"
      ]
     },
     "execution_count": 5,
     "metadata": {},
     "output_type": "execute_result"
    }
   ],
   "source": [
    "# check for null values in the dataset\n",
    "df.isnull().sum()"
   ]
  },
  {
   "cell_type": "code",
   "execution_count": 6,
   "metadata": {},
   "outputs": [],
   "source": [
    "#replacing the null value with the mean of that column\n",
    "df=df.fillna(df.mean())"
   ]
  },
  {
   "cell_type": "code",
   "execution_count": 7,
   "metadata": {},
   "outputs": [],
   "source": [
    "from sklearn.preprocessing import normalize\n",
    "from sklearn.preprocessing import StandardScaler\n",
    "import matplotlib.pyplot as plt\n",
    "import numpy as np"
   ]
  },
  {
   "cell_type": "code",
   "execution_count": 21,
   "metadata": {},
   "outputs": [],
   "source": [
    "from sklearn.model_selection import train_test_split\n",
    "from sklearn.linear_model import LogisticRegression\n",
    "from sklearn.metrics import accuracy_score\n"
   ]
  },
  {
   "cell_type": "code",
   "execution_count": 25,
   "metadata": {},
   "outputs": [],
   "source": [
    "# defing the feature label (x) and the target label (y)\n",
    "x=df.drop('TOTCHG',axis=1).values\n",
    "y=df.TOTCHG"
   ]
  },
  {
   "cell_type": "code",
   "execution_count": 28,
   "metadata": {},
   "outputs": [],
   "source": [
    "# 1. Split the Data into a training set and testing set\n",
    "x, x_test, y, y_test = train_test_split(x, y, test_size=0.2, random_state=42)\n"
   ]
  },
  {
   "cell_type": "code",
   "execution_count": 29,
   "metadata": {},
   "outputs": [],
   "source": [
    "# introducing a bias term in \n",
    "x = np.insert(x,0,1,axis=1)"
   ]
  },
  {
   "cell_type": "code",
   "execution_count": 30,
   "metadata": {},
   "outputs": [],
   "source": [
    "# normalizing the feature\n",
    "x=normalize(x)"
   ]
  },
  {
   "cell_type": "code",
   "execution_count": 31,
   "metadata": {},
   "outputs": [],
   "source": [
    "# the function for vector multiplication\n",
    "def vec(x,theta):\n",
    "    return np.dot(x,theta)"
   ]
  },
  {
   "cell_type": "code",
   "execution_count": 32,
   "metadata": {},
   "outputs": [],
   "source": [
    "# the cost function:\n",
    "def cost_fn( x, y, theta):\n",
    "    m=len(y)\n",
    "    error=vec(x,theta) -y\n",
    "    cost=(1/(2*m))*np.sum(error**2)\n",
    "    return cost"
   ]
  },
  {
   "cell_type": "code",
   "execution_count": 33,
   "metadata": {},
   "outputs": [],
   "source": [
    "# function for gradient descent \n",
    "def gradient_descent(x,y,theta,alpha,num_iterations):\n",
    "    m=len(y)\n",
    "    costs=[]\n",
    "    for _ in range(num_iterations):\n",
    "        error=vec(x,theta)-y\n",
    "        gradient=(1/m)* np.dot(x.T,error)\n",
    "        theta=theta-alpha*gradient\n",
    "        costs.append(cost_fn(x,y,theta))\n",
    "    return theta,costs"
   ]
  },
  {
   "cell_type": "code",
   "execution_count": 34,
   "metadata": {},
   "outputs": [],
   "source": [
    "# Initializing the parameters\n",
    "theta=np.zeros(x.shape[1])\n",
    "alpha=0.001\n",
    "num_iterations=1000\n",
    "\n",
    "# Training the model\n",
    "theta, costs=gradient_descent(x,y,theta,alpha,num_iterations)"
   ]
  },
  {
   "cell_type": "code",
   "execution_count": 35,
   "metadata": {},
   "outputs": [],
   "source": [
    "# function to make predictions\n",
    "def predict(x,theta):\n",
    "    return np.dot(x,theta)"
   ]
  },
  {
   "cell_type": "code",
   "execution_count": 36,
   "metadata": {},
   "outputs": [],
   "source": [
    "predictions=predict(x,theta)"
   ]
  },
  {
   "cell_type": "code",
   "execution_count": 37,
   "metadata": {},
   "outputs": [
    {
     "data": {
      "text/plain": [
       "array([1787.36731252, 1787.30063756, 1789.00709788, 1790.21041686,\n",
       "       1789.14917981, 1787.82501773, 1788.83698199, 1787.36731252,\n",
       "       1787.4333228 , 1788.91986966, 1788.76860476, 1787.36731252,\n",
       "       1789.15728669, 1788.67101081, 1787.42816855, 1787.48466011,\n",
       "       1727.70152565, 1787.42671394, 1787.36585784, 1787.92084061,\n",
       "       1789.08295242, 1787.36585784, 1789.44191052, 1787.36585784,\n",
       "       1787.42671394, 1789.28339476, 1787.42671394, 1787.36585784,\n",
       "       1787.42816855, 1752.9158241 , 1790.21546055, 1789.2041188 ,\n",
       "       1787.42816855, 1787.36731252, 1789.24553066, 1788.93831142,\n",
       "       1787.48466011, 1788.88684274, 1789.05678672, 1787.36585784,\n",
       "       1788.29421867, 1788.8723642 , 1787.42671394, 1787.36585784,\n",
       "       1788.82164804, 1787.42671394, 1789.9030018 , 1787.36585784,\n",
       "       1787.82070766, 1787.42671394, 1790.18258198, 1787.36731252,\n",
       "       1789.0864193 , 1788.90571547, 1787.36731252, 1787.42816855,\n",
       "       1789.16407676, 1788.90571547, 1789.17404962, 1788.90755843,\n",
       "       1787.48320556, 1788.70921047, 1789.13365735, 1790.59163787,\n",
       "       1787.36731252, 1787.36731252, 1767.63706943, 1789.14260243,\n",
       "       1787.36585784, 1787.36585784, 1789.14058074, 1787.30209231,\n",
       "       1787.36585784, 1787.48466011, 1787.36731252, 1787.42671394,\n",
       "       1787.42671394, 1787.42702684, 1787.36585784, 1789.24553066,\n",
       "       1787.36585784, 1788.99006233, 1787.36731252, 1787.42816855,\n",
       "       1788.96199422, 1787.36585784, 1789.0864193 , 1788.77036821,\n",
       "       1787.23480016, 1783.85944398, 1787.36585784, 1787.42816855,\n",
       "       1787.30063756, 1787.30063756, 1787.36585784, 1787.42816855,\n",
       "       1787.36585784, 1789.08446574, 1787.36731252, 1787.62843414,\n",
       "       1787.36585784, 1787.36731252, 1787.36731252, 1786.87072615,\n",
       "       1788.71072412, 1787.42671394, 1787.36731252, 1787.36731252,\n",
       "       1787.42892248, 1787.9712874 , 1787.42671394, 1787.36585784,\n",
       "       1788.90387629, 1789.33771144, 1787.36731252, 1787.36731252,\n",
       "       1788.82195806, 1787.4326116 , 1787.36731252, 1787.42816855,\n",
       "       1787.42671394, 1787.42816855, 1789.33333573, 1787.42816855,\n",
       "       1787.48320556, 1790.25552441, 1732.57932584, 1788.95051654,\n",
       "       1788.80887053, 1788.53540273, 1787.36585784, 1787.4996693 ,\n",
       "       1787.36731252, 1789.33115401, 1787.30063756, 1787.52411186,\n",
       "       1790.6089898 , 1789.3845844 , 1787.36585784, 1787.36731252,\n",
       "       1789.0883766 , 1787.36731252, 1787.36585784, 1789.21998663,\n",
       "       1787.42816855, 1787.42671394, 1787.42816855, 1788.96061545,\n",
       "       1788.81597095, 1788.44920612, 1787.42816855, 1787.36731252,\n",
       "       1787.42816855, 1787.36731252, 1787.30063756, 1787.42816855,\n",
       "       1787.48320556, 1787.36585784, 1787.36585784, 1789.14260243,\n",
       "       1787.36585784, 1787.48466011, 1787.6409436 , 1787.36585784,\n",
       "       1787.48503633, 1787.81478044, 1787.42816855, 1788.9976419 ,\n",
       "       1787.43036878, 1789.2030661 , 1787.31001877, 1787.36731252,\n",
       "       1787.42671394, 1740.41994113, 1789.22878629, 1787.53533252,\n",
       "       1787.36731252, 1787.36585784, 1787.36731252, 1787.36731252,\n",
       "       1788.92550796, 1787.30063756, 1787.36585784, 1787.36731252,\n",
       "       1787.36731252, 1789.32964098, 1787.42816855, 1787.36731252,\n",
       "       1787.36585784, 1787.36585784, 1787.36731252, 1787.36731252,\n",
       "       1787.53533252, 1788.9112557 , 1787.48320556, 1788.80207064,\n",
       "       1789.16302313, 1790.58901134, 1787.36731252, 1787.36731252,\n",
       "       1787.36585784, 1787.42816855, 1788.96764746, 1497.33908175,\n",
       "       1787.62990268, 1787.36585784, 1787.36585784, 1787.66552496,\n",
       "       1787.36585784, 1787.36731252, 1789.23367824, 1789.28829646,\n",
       "       1787.50679272, 1789.22671599, 1787.54142372, 1787.36585784,\n",
       "       1787.42671394, 1787.36731252, 1787.36585784, 1789.50764916,\n",
       "       1787.30063756, 1789.5489293 , 1790.06123241, 1790.75372494,\n",
       "       1788.86682781, 1787.36731252, 1787.36731252, 1787.36585784,\n",
       "       1787.42816855, 1787.36731252, 1787.36585784, 1789.05975639,\n",
       "       1788.89504407, 1788.5517245 , 1787.36585784, 1787.36731252,\n",
       "       1789.65843733, 1789.05990576, 1787.36585784, 1787.42816855,\n",
       "       1789.11158428, 1787.42816855, 1787.42671394, 1788.81597095,\n",
       "       1787.48466011, 1788.67873448, 1787.36731252, 1787.36585784,\n",
       "       1787.42671394, 1787.3764397 , 1787.36585784, 1787.37513228,\n",
       "       1789.1720477 , 1790.36101707, 1787.36731252, 1787.36585784,\n",
       "       1787.4326116 , 1787.62794657, 1787.42671394, 1787.36585784,\n",
       "       1787.3098478 , 1787.36731252, 1788.9112557 , 1789.33808899,\n",
       "       1789.05990576, 1789.1661657 , 1787.36585784, 1789.21998663,\n",
       "       1787.36585784, 1787.36585784, 1788.35577354, 1787.42671394,\n",
       "       1788.80735697, 1787.36896178, 1787.36585784, 1787.36585784,\n",
       "       1787.36585784, 1787.42671394, 1789.17404962, 1787.36585784,\n",
       "       1788.76860476, 1787.36585784, 1789.0883766 , 1790.45727059,\n",
       "       1787.81217845, 1789.18212851, 1789.99960682, 1789.28974667,\n",
       "       1787.30209231, 1788.97656633, 1787.36731252, 1789.14737619,\n",
       "       1787.30063756, 1787.36731252, 1787.42816855, 1787.48466011,\n",
       "       1787.42816855, 1787.51630001, 1787.36585784, 1787.36585784,\n",
       "       1788.55781964, 1789.03150168, 1789.71254801, 1787.36731252,\n",
       "       1787.36731252, 1787.36585784, 1479.62266942, 1787.56410292,\n",
       "       1787.36585784, 1788.93679805, 1787.36585784, 1789.19563961,\n",
       "       1787.36585784, 1789.18733777, 1787.42816855, 1789.11146248,\n",
       "       1787.48320556, 1787.42816855, 1787.83008787, 1787.36585784,\n",
       "       1789.22878629, 1787.53678701, 1788.61113734, 1788.96190179,\n",
       "       1787.42671394, 1787.48466011, 1789.37860917, 1790.78760114,\n",
       "       1788.96229979, 1787.36585784, 1787.58309472, 1787.09764937,\n",
       "       1788.82347145, 1787.36585784, 1789.33799318, 1789.14462803,\n",
       "       1787.42671394, 1787.42816855, 1789.14846314, 1788.86682781,\n",
       "       1787.42671394, 1787.42671394, 1787.62943926, 1790.53102544,\n",
       "       1789.41801896, 1789.15825231, 1787.36585784, 1788.99006233,\n",
       "       1787.36585784, 1788.70921047, 1787.36585784, 1788.86531437,\n",
       "       1787.42671394, 1789.11158428, 1787.48320556, 1787.36731252,\n",
       "       1788.56429409, 1789.16256331, 1787.36731252, 1789.02709047,\n",
       "       1787.36585784, 1787.83008787, 1788.96381306, 1789.14462803,\n",
       "       1787.43117435, 1787.36585784, 1789.69480297, 1789.28766703,\n",
       "       1787.36731252, 1787.36585784, 1787.36829675, 1787.42671394,\n",
       "       1789.14260243, 1787.42671394, 1787.36731252, 1787.36731252,\n",
       "       1731.89710115, 1787.42671394, 1781.01185793, 1787.36731252,\n",
       "       1787.42671394, 1787.73653551, 1789.17404962, 1787.82020859,\n",
       "       1787.70018888, 1789.02709047, 1787.36585784, 1789.52533306,\n",
       "       1787.42671394, 1787.48466011, 1787.36585784, 1787.48320556,\n",
       "       1788.71385013, 1787.36731252, 1786.22422927, 1787.36731252,\n",
       "       1787.42671394, 1787.73837779, 1787.36585784, 1787.36585784])"
      ]
     },
     "execution_count": 37,
     "metadata": {},
     "output_type": "execute_result"
    }
   ],
   "source": [
    "predictions"
   ]
  },
  {
   "cell_type": "code",
   "execution_count": 40,
   "metadata": {},
   "outputs": [
    {
     "ename": "ValueError",
     "evalue": "Found input variables with inconsistent numbers of samples: [100, 400]",
     "output_type": "error",
     "traceback": [
      "\u001b[0;31m---------------------------------------------------------------------------\u001b[0m",
      "\u001b[0;31mValueError\u001b[0m                                Traceback (most recent call last)",
      "\u001b[1;32m/Users/debangshi/Desktop/Projects/Robo/DebangshiKundu/Task3/linear.ipynb Cell 19\u001b[0m line \u001b[0;36m1\n\u001b[0;32m----> <a href='vscode-notebook-cell:/Users/debangshi/Desktop/Projects/Robo/DebangshiKundu/Task3/linear.ipynb#X25sZmlsZQ%3D%3D?line=0'>1</a>\u001b[0m accuracy \u001b[39m=\u001b[39m accuracy_score(y_test, predictions)\n",
      "File \u001b[0;32m~/anaconda3/lib/python3.11/site-packages/sklearn/utils/_param_validation.py:211\u001b[0m, in \u001b[0;36mvalidate_params.<locals>.decorator.<locals>.wrapper\u001b[0;34m(*args, **kwargs)\u001b[0m\n\u001b[1;32m    205\u001b[0m \u001b[39mtry\u001b[39;00m:\n\u001b[1;32m    206\u001b[0m     \u001b[39mwith\u001b[39;00m config_context(\n\u001b[1;32m    207\u001b[0m         skip_parameter_validation\u001b[39m=\u001b[39m(\n\u001b[1;32m    208\u001b[0m             prefer_skip_nested_validation \u001b[39mor\u001b[39;00m global_skip_validation\n\u001b[1;32m    209\u001b[0m         )\n\u001b[1;32m    210\u001b[0m     ):\n\u001b[0;32m--> 211\u001b[0m         \u001b[39mreturn\u001b[39;00m func(\u001b[39m*\u001b[39margs, \u001b[39m*\u001b[39m\u001b[39m*\u001b[39mkwargs)\n\u001b[1;32m    212\u001b[0m \u001b[39mexcept\u001b[39;00m InvalidParameterError \u001b[39mas\u001b[39;00m e:\n\u001b[1;32m    213\u001b[0m     \u001b[39m# When the function is just a wrapper around an estimator, we allow\u001b[39;00m\n\u001b[1;32m    214\u001b[0m     \u001b[39m# the function to delegate validation to the estimator, but we replace\u001b[39;00m\n\u001b[1;32m    215\u001b[0m     \u001b[39m# the name of the estimator by the name of the function in the error\u001b[39;00m\n\u001b[1;32m    216\u001b[0m     \u001b[39m# message to avoid confusion.\u001b[39;00m\n\u001b[1;32m    217\u001b[0m     msg \u001b[39m=\u001b[39m re\u001b[39m.\u001b[39msub(\n\u001b[1;32m    218\u001b[0m         \u001b[39mr\u001b[39m\u001b[39m\"\u001b[39m\u001b[39mparameter of \u001b[39m\u001b[39m\\\u001b[39m\u001b[39mw+ must be\u001b[39m\u001b[39m\"\u001b[39m,\n\u001b[1;32m    219\u001b[0m         \u001b[39mf\u001b[39m\u001b[39m\"\u001b[39m\u001b[39mparameter of \u001b[39m\u001b[39m{\u001b[39;00mfunc\u001b[39m.\u001b[39m\u001b[39m__qualname__\u001b[39m\u001b[39m}\u001b[39;00m\u001b[39m must be\u001b[39m\u001b[39m\"\u001b[39m,\n\u001b[1;32m    220\u001b[0m         \u001b[39mstr\u001b[39m(e),\n\u001b[1;32m    221\u001b[0m     )\n",
      "File \u001b[0;32m~/anaconda3/lib/python3.11/site-packages/sklearn/metrics/_classification.py:220\u001b[0m, in \u001b[0;36maccuracy_score\u001b[0;34m(y_true, y_pred, normalize, sample_weight)\u001b[0m\n\u001b[1;32m    154\u001b[0m \u001b[39m\u001b[39m\u001b[39m\"\"\"Accuracy classification score.\u001b[39;00m\n\u001b[1;32m    155\u001b[0m \n\u001b[1;32m    156\u001b[0m \u001b[39mIn multilabel classification, this function computes subset accuracy:\u001b[39;00m\n\u001b[0;32m   (...)\u001b[0m\n\u001b[1;32m    216\u001b[0m \u001b[39m0.5\u001b[39;00m\n\u001b[1;32m    217\u001b[0m \u001b[39m\"\"\"\u001b[39;00m\n\u001b[1;32m    219\u001b[0m \u001b[39m# Compute accuracy for each possible representation\u001b[39;00m\n\u001b[0;32m--> 220\u001b[0m y_type, y_true, y_pred \u001b[39m=\u001b[39m _check_targets(y_true, y_pred)\n\u001b[1;32m    221\u001b[0m check_consistent_length(y_true, y_pred, sample_weight)\n\u001b[1;32m    222\u001b[0m \u001b[39mif\u001b[39;00m y_type\u001b[39m.\u001b[39mstartswith(\u001b[39m\"\u001b[39m\u001b[39mmultilabel\u001b[39m\u001b[39m\"\u001b[39m):\n",
      "File \u001b[0;32m~/anaconda3/lib/python3.11/site-packages/sklearn/metrics/_classification.py:84\u001b[0m, in \u001b[0;36m_check_targets\u001b[0;34m(y_true, y_pred)\u001b[0m\n\u001b[1;32m     57\u001b[0m \u001b[39mdef\u001b[39;00m \u001b[39m_check_targets\u001b[39m(y_true, y_pred):\n\u001b[1;32m     58\u001b[0m \u001b[39m    \u001b[39m\u001b[39m\"\"\"Check that y_true and y_pred belong to the same classification task.\u001b[39;00m\n\u001b[1;32m     59\u001b[0m \n\u001b[1;32m     60\u001b[0m \u001b[39m    This converts multiclass or binary types to a common shape, and raises a\u001b[39;00m\n\u001b[0;32m   (...)\u001b[0m\n\u001b[1;32m     82\u001b[0m \u001b[39m    y_pred : array or indicator matrix\u001b[39;00m\n\u001b[1;32m     83\u001b[0m \u001b[39m    \"\"\"\u001b[39;00m\n\u001b[0;32m---> 84\u001b[0m     check_consistent_length(y_true, y_pred)\n\u001b[1;32m     85\u001b[0m     type_true \u001b[39m=\u001b[39m type_of_target(y_true, input_name\u001b[39m=\u001b[39m\u001b[39m\"\u001b[39m\u001b[39my_true\u001b[39m\u001b[39m\"\u001b[39m)\n\u001b[1;32m     86\u001b[0m     type_pred \u001b[39m=\u001b[39m type_of_target(y_pred, input_name\u001b[39m=\u001b[39m\u001b[39m\"\u001b[39m\u001b[39my_pred\u001b[39m\u001b[39m\"\u001b[39m)\n",
      "File \u001b[0;32m~/anaconda3/lib/python3.11/site-packages/sklearn/utils/validation.py:409\u001b[0m, in \u001b[0;36mcheck_consistent_length\u001b[0;34m(*arrays)\u001b[0m\n\u001b[1;32m    407\u001b[0m uniques \u001b[39m=\u001b[39m np\u001b[39m.\u001b[39munique(lengths)\n\u001b[1;32m    408\u001b[0m \u001b[39mif\u001b[39;00m \u001b[39mlen\u001b[39m(uniques) \u001b[39m>\u001b[39m \u001b[39m1\u001b[39m:\n\u001b[0;32m--> 409\u001b[0m     \u001b[39mraise\u001b[39;00m \u001b[39mValueError\u001b[39;00m(\n\u001b[1;32m    410\u001b[0m         \u001b[39m\"\u001b[39m\u001b[39mFound input variables with inconsistent numbers of samples: \u001b[39m\u001b[39m%r\u001b[39;00m\u001b[39m\"\u001b[39m\n\u001b[1;32m    411\u001b[0m         \u001b[39m%\u001b[39m [\u001b[39mint\u001b[39m(l) \u001b[39mfor\u001b[39;00m l \u001b[39min\u001b[39;00m lengths]\n\u001b[1;32m    412\u001b[0m     )\n",
      "\u001b[0;31mValueError\u001b[0m: Found input variables with inconsistent numbers of samples: [100, 400]"
     ]
    }
   ],
   "source": [
    "accuracy = accuracy_score(y_test, predictions)"
   ]
  },
  {
   "cell_type": "code",
   "execution_count": null,
   "metadata": {},
   "outputs": [],
   "source": []
  }
 ],
 "metadata": {
  "kernelspec": {
   "display_name": "Python 3",
   "language": "python",
   "name": "python3"
  },
  "language_info": {
   "codemirror_mode": {
    "name": "ipython",
    "version": 3
   },
   "file_extension": ".py",
   "mimetype": "text/x-python",
   "name": "python",
   "nbconvert_exporter": "python",
   "pygments_lexer": "ipython3",
   "version": "3.11.4"
  },
  "orig_nbformat": 4
 },
 "nbformat": 4,
 "nbformat_minor": 2
}
